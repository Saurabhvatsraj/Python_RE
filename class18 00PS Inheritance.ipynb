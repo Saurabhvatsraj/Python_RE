{
 "cells": [
  {
   "cell_type": "code",
   "execution_count": 1,
   "id": "b9b60df9",
   "metadata": {},
   "outputs": [],
   "source": [
    "#oops have 4 pillor\n",
    "#1.inheritance 2. polymorphsim 3.abstraction 4.encapsulation \n"
   ]
  },
  {
   "cell_type": "markdown",
   "id": "7de9feee",
   "metadata": {},
   "source": [
    "# Inheritance"
   ]
  },
  {
   "cell_type": "code",
   "execution_count": 4,
   "id": "5bf79ce8",
   "metadata": {},
   "outputs": [
    {
     "name": "stdout",
     "output_type": "stream",
     "text": [
      "saurabh 24\n"
     ]
    }
   ],
   "source": [
    "#single level inheritace ---at leat two class\n",
    "# multilevel inheritance-\n",
    "\n",
    "\n",
    "# single level inheritance\n",
    "\n",
    "# 1 method-----\n",
    "\n",
    "class parent :\n",
    "    def __init__(Self,name):\n",
    "        self.name=name\n",
    "        \n",
    "class child(parent):\n",
    "    def __init__(self,name,age):\n",
    "        \n",
    "        self.age=age\n",
    "        self.name=name\n",
    "        print(name,age)\n",
    "x=child(\"saurabh\",24)"
   ]
  },
  {
   "cell_type": "code",
   "execution_count": 8,
   "id": "496968c1",
   "metadata": {},
   "outputs": [
    {
     "name": "stdout",
     "output_type": "stream",
     "text": [
      "xyz 56\n"
     ]
    }
   ],
   "source": [
    "# 2 method----\n",
    "\n",
    "\n",
    "class parent:\n",
    "    def __init__(self,name):\n",
    "        self.name=name\n",
    "        \n",
    "class child(parent):\n",
    "    def __init__(self,name,age):\n",
    "        self.age=age\n",
    "        parent.__init__(self,name)\n",
    "        print(name,age)\n",
    "x=child(\"xyz\",56)"
   ]
  },
  {
   "cell_type": "code",
   "execution_count": 4,
   "id": "acc95527",
   "metadata": {},
   "outputs": [
    {
     "name": "stdout",
     "output_type": "stream",
     "text": [
      "deepak 34\n"
     ]
    },
    {
     "data": {
      "text/plain": [
       "<__main__.child at 0x2404b841220>"
      ]
     },
     "execution_count": 4,
     "metadata": {},
     "output_type": "execute_result"
    }
   ],
   "source": [
    "# Super mehtod\n",
    "\n",
    "class parent:\n",
    "    def __init__(self,name):\n",
    "        self.name=name\n",
    "class child(parent):\n",
    "    def __init__(self,name,age):\n",
    "        self.age=age\n",
    "        super().__init__(name)\n",
    "        print(name,age)\n",
    "child('deepak',34)"
   ]
  },
  {
   "cell_type": "code",
   "execution_count": 9,
   "id": "74d96843",
   "metadata": {},
   "outputs": [
    {
     "name": "stdout",
     "output_type": "stream",
     "text": [
      "second car is best\n"
     ]
    }
   ],
   "source": [
    "#wap to inherit car1 class from car2 class and try to find the best car wrt average.\n",
    "\n",
    "class car1:\n",
    "    def __init__(self,name,color,avg1):\n",
    "        self.name=name\n",
    "        self.color=color\n",
    "        self.avg1=avg1\n",
    "        \n",
    "class car2(car1):\n",
    "    def __init__(self,name,color,avg1,avg2):\n",
    "        self.avg2=avg2\n",
    "        super().__init__(name,color,avg1)\n",
    "        if avg1>avg2:\n",
    "            print(\"first car is best\")\n",
    "        else:\n",
    "            print(\"second car is best\")\n",
    "            \n",
    "x=car2(\"bmw\",'black',45,67)"
   ]
  },
  {
   "cell_type": "code",
   "execution_count": 2,
   "id": "343cf592",
   "metadata": {},
   "outputs": [
    {
     "name": "stdout",
     "output_type": "stream",
     "text": [
      "gaurav 23 male\n"
     ]
    }
   ],
   "source": [
    "class gnp:\n",
    "    def __init__(self,name):\n",
    "        self.name=name\n",
    "        \n",
    "class parent(gnp):\n",
    "    def __init__(self,name,age):\n",
    "        self.age=age\n",
    "class child(parent):\n",
    "    def __init__(self,name,age,gender):\n",
    "        self.gender =gender\n",
    "        super().__init__(name,age)\n",
    "        print(name,age,gender)\n",
    "        \n",
    "x=child(\"gaurav\",23,\"male\")"
   ]
  },
  {
   "cell_type": "code",
   "execution_count": null,
   "id": "a1438a53",
   "metadata": {},
   "outputs": [],
   "source": []
  }
 ],
 "metadata": {
  "kernelspec": {
   "display_name": "Python 3 (ipykernel)",
   "language": "python",
   "name": "python3"
  },
  "language_info": {
   "codemirror_mode": {
    "name": "ipython",
    "version": 3
   },
   "file_extension": ".py",
   "mimetype": "text/x-python",
   "name": "python",
   "nbconvert_exporter": "python",
   "pygments_lexer": "ipython3",
   "version": "3.9.12"
  }
 },
 "nbformat": 4,
 "nbformat_minor": 5
}
