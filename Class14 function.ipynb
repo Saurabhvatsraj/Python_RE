{
 "cells": [
  {
   "cell_type": "code",
   "execution_count": 13,
   "id": "cec80204",
   "metadata": {},
   "outputs": [],
   "source": [
    "# what is function--- define the steps\n",
    "# syntex of function\n",
    "# define_function function_name:\n",
    "#         print(msg)"
   ]
  },
  {
   "cell_type": "code",
   "execution_count": 14,
   "id": "67b92bd5",
   "metadata": {},
   "outputs": [
    {
     "name": "stdout",
     "output_type": "stream",
     "text": [
      "14\n"
     ]
    }
   ],
   "source": [
    "def add():\n",
    "    a=9\n",
    "    b=5\n",
    "    c=a+b\n",
    "    print(c)\n",
    "add()"
   ]
  },
  {
   "cell_type": "code",
   "execution_count": 15,
   "id": "d5aa56ea",
   "metadata": {},
   "outputs": [
    {
     "name": "stdout",
     "output_type": "stream",
     "text": [
      "hello world\n"
     ]
    }
   ],
   "source": [
    "# wap to a function hello wold\n",
    "\n",
    "def add():\n",
    "    print(\"hello world\")\n",
    "add()"
   ]
  },
  {
   "cell_type": "code",
   "execution_count": 16,
   "id": "fea6ab0f",
   "metadata": {},
   "outputs": [
    {
     "name": "stdout",
     "output_type": "stream",
     "text": [
      "16\n"
     ]
    }
   ],
   "source": [
    "# steps---> define the steps\n",
    "\n",
    "#no arg no return\n",
    "#with arg no return\n",
    "#with arg with return\n",
    "#no arg with return\n",
    "\n",
    "\n",
    "# no arg no return\n",
    "\n",
    "def add():\n",
    "    a=8\n",
    "    b=8\n",
    "    c=a+b\n",
    "    print(c)\n",
    "add()"
   ]
  },
  {
   "cell_type": "code",
   "execution_count": 17,
   "id": "239b08ea",
   "metadata": {},
   "outputs": [
    {
     "name": "stdout",
     "output_type": "stream",
     "text": [
      "47\n"
     ]
    }
   ],
   "source": [
    "# with arg no return\n",
    "\n",
    "def add(x,y):\n",
    "    result=x+y\n",
    "    print(result)\n",
    "add(40,7)"
   ]
  },
  {
   "cell_type": "code",
   "execution_count": 19,
   "id": "cee3a1af",
   "metadata": {},
   "outputs": [
    {
     "data": {
      "text/plain": [
       "6"
      ]
     },
     "execution_count": 19,
     "metadata": {},
     "output_type": "execute_result"
    }
   ],
   "source": [
    "# with arg with return\n",
    "\n",
    "def add(x,y):\n",
    "    result=x*y\n",
    "    return result\n",
    "add(6,1)"
   ]
  },
  {
   "cell_type": "code",
   "execution_count": 20,
   "id": "9b6651a6",
   "metadata": {},
   "outputs": [
    {
     "data": {
      "text/plain": [
       "13"
      ]
     },
     "execution_count": 20,
     "metadata": {},
     "output_type": "execute_result"
    }
   ],
   "source": [
    "# no arg with return\n",
    "def add():\n",
    "    a=6\n",
    "    b=7\n",
    "    result=a+b\n",
    "    return result\n",
    "add()"
   ]
  },
  {
   "cell_type": "code",
   "execution_count": 21,
   "id": "7e163c06",
   "metadata": {},
   "outputs": [
    {
     "name": "stdout",
     "output_type": "stream",
     "text": [
      "c is max\n"
     ]
    }
   ],
   "source": [
    "# wap to find max number from three numbers using function\n",
    "\n",
    "def add(a,b,c):\n",
    "    if a>b and a>c:\n",
    "        print(\"a is max\")\n",
    "    elif b>a and b>c:\n",
    "        print(\"b is max\")\n",
    "    elif c>a and c>b:\n",
    "        print(\"c is max\")\n",
    "        \n",
    "add(2,4,8)\n",
    "    "
   ]
  },
  {
   "cell_type": "code",
   "execution_count": 22,
   "id": "2ed931b2",
   "metadata": {},
   "outputs": [
    {
     "name": "stdout",
     "output_type": "stream",
     "text": [
      "a is min\n"
     ]
    }
   ],
   "source": [
    "# wap to find min number from three number using function;\n",
    "\n",
    "def add(a,b,c):\n",
    "    if a<b and a<c:\n",
    "        print(\"a is min\")\n",
    "    elif b<a and b<c:\n",
    "        print(\"b is min\")\n",
    "    elif c<a and c<b:\n",
    "        print(\"c is min\")\n",
    "add(-1,6,7)"
   ]
  },
  {
   "cell_type": "code",
   "execution_count": 23,
   "id": "fc46c287",
   "metadata": {},
   "outputs": [
    {
     "name": "stdout",
     "output_type": "stream",
     "text": [
      "261\n"
     ]
    }
   ],
   "source": [
    "# wap  to sum all number present in a list using function\n",
    "x=[56,98,67,40]\n",
    "def add(x):\n",
    "    b=0\n",
    "    for i in x:\n",
    "        b=b+i\n",
    "    print(b)\n",
    "add(x)"
   ]
  },
  {
   "cell_type": "code",
   "execution_count": 24,
   "id": "220a1fa0",
   "metadata": {},
   "outputs": [
    {
     "name": "stdout",
     "output_type": "stream",
     "text": [
      "string not reversed\n"
     ]
    }
   ],
   "source": [
    "# wap to check a string is reversed or not?\n",
    "\n",
    "    \n",
    "def add():\n",
    "    \n",
    "    a=\"saurabh\"\n",
    "    b=\"\"\n",
    "    for i in a:\n",
    "        b=i+b\n",
    "\n",
    "    if a==b:\n",
    "        print(\"string reversed\")\n",
    "    else:\n",
    "        print(\"string not reversed\")\n",
    "        \n",
    "add()"
   ]
  },
  {
   "cell_type": "code",
   "execution_count": 25,
   "id": "e4b49087",
   "metadata": {},
   "outputs": [
    {
     "name": "stdout",
     "output_type": "stream",
     "text": [
      "odd number 3\n",
      "odd number 75\n",
      "odd number 45\n",
      "odd number 13\n",
      "odd number 21\n"
     ]
    }
   ],
   "source": [
    "# wap to find odd number using function\n",
    "def add():\n",
    "    \n",
    "    x=[2,4,6,3,98,75,45,13,21]\n",
    "\n",
    "    for i in x:\n",
    "        if i%2!=0:\n",
    "            print(\"odd number\",i)\n",
    "add()    "
   ]
  },
  {
   "cell_type": "code",
   "execution_count": 26,
   "id": "df8e05a2",
   "metadata": {},
   "outputs": [
    {
     "name": "stdout",
     "output_type": "stream",
     "text": [
      "even number 4\n",
      "even number 2\n",
      "even number 6\n",
      "even number 8\n"
     ]
    }
   ],
   "source": [
    "def add():\n",
    "    x=[1,3,4,2,6,7,8,9,11]\n",
    "    for i in x:\n",
    "        if i%2==0:\n",
    "            print(\"even number\",i)\n",
    "add()"
   ]
  },
  {
   "cell_type": "code",
   "execution_count": 27,
   "id": "a23fd1ee",
   "metadata": {},
   "outputs": [
    {
     "name": "stdout",
     "output_type": "stream",
     "text": [
      "palindrome\n"
     ]
    }
   ],
   "source": [
    "# write a function to check a string is palindrome or not?\n",
    "\n",
    "def add():\n",
    "    \n",
    "\n",
    "    x=\"nitin\"\n",
    "    b=\"\"\n",
    "    for i in x:\n",
    "        b=i+b\n",
    "    if x==b:\n",
    "        print(\"palindrome\")\n",
    "    else:\n",
    "        print(\"not palindrome\")\n",
    "add()"
   ]
  },
  {
   "cell_type": "code",
   "execution_count": 28,
   "id": "3f07bd16",
   "metadata": {},
   "outputs": [
    {
     "name": "stdout",
     "output_type": "stream",
     "text": [
      "55\n"
     ]
    }
   ],
   "source": [
    "#wap to sum the first 10 natural number using function?\n",
    "\n",
    "def add():\n",
    "    \n",
    "    b=0\n",
    "    for i in range(1,11):\n",
    "        b=i+b\n",
    "    print(b)\n",
    "add()\n"
   ]
  },
  {
   "cell_type": "code",
   "execution_count": 29,
   "id": "d39a8c24",
   "metadata": {},
   "outputs": [
    {
     "data": {
      "text/plain": [
       "61.8"
      ]
     },
     "execution_count": 29,
     "metadata": {},
     "output_type": "execute_result"
    }
   ],
   "source": [
    "#wap to calculate the percentage of 5 students?\n",
    "\n",
    "def add(a,b,c,d,e):\n",
    "    total_marks=500\n",
    "    marks_obtain=(a+b+c+d+e)\n",
    "    per=(marks_obtain/total_marks)*100\n",
    "    return per\n",
    "\n",
    "add(80,40,58,41,90)\n"
   ]
  },
  {
   "cell_type": "code",
   "execution_count": 30,
   "id": "a0b44113",
   "metadata": {},
   "outputs": [
    {
     "name": "stdout",
     "output_type": "stream",
     "text": [
      "not square\n"
     ]
    }
   ],
   "source": [
    "#wap to find the area and circumfrance of of circle and also try to find if this circle is going tobe\n",
    "# square or not?\n",
    "\n",
    "def add():\n",
    "\n",
    "    radius=4\n",
    "    area_of_circle=3.14*radius*2\n",
    "    circumfrance_of_cirle=2*3.14*radius\n",
    "    area_of_square=radius*2\n",
    "    if area_of_circle==area_of_square:\n",
    "        print(\"square\")\n",
    "    else:\n",
    "        print(\"not square\")\n",
    "add()"
   ]
  },
  {
   "cell_type": "code",
   "execution_count": 31,
   "id": "af6eb9c3",
   "metadata": {},
   "outputs": [],
   "source": [
    "# calculate the total area of a land having l=20,b=30 if the land is greater than 100sq fit than then \n",
    "# also calculate the cost of remaining land price of land is 20000k.\n"
   ]
  },
  {
   "cell_type": "code",
   "execution_count": null,
   "id": "59233213",
   "metadata": {},
   "outputs": [],
   "source": [
    "#wap to find out the average cost of 5 quantity each quantity is having the value of 80 and if the \n",
    "# value exceed by avg value then also calculate  the total price of whole quantity avg value=>350\n"
   ]
  }
 ],
 "metadata": {
  "kernelspec": {
   "display_name": "Python 3 (ipykernel)",
   "language": "python",
   "name": "python3"
  },
  "language_info": {
   "codemirror_mode": {
    "name": "ipython",
    "version": 3
   },
   "file_extension": ".py",
   "mimetype": "text/x-python",
   "name": "python",
   "nbconvert_exporter": "python",
   "pygments_lexer": "ipython3",
   "version": "3.9.12"
  }
 },
 "nbformat": 4,
 "nbformat_minor": 5
}
