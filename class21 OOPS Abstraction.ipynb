{
 "cells": [
  {
   "cell_type": "code",
   "execution_count": 2,
   "id": "a68f0e05",
   "metadata": {},
   "outputs": [
    {
     "name": "stdout",
     "output_type": "stream",
     "text": [
      "hi\n"
     ]
    }
   ],
   "source": [
    "class x:\n",
    "    def hello(self):\n",
    "        print(\"hy\")\n",
    "    def hello(self):\n",
    "        print(\"hi\")\n",
    "a=x()\n",
    "a.hello()\n"
   ]
  },
  {
   "cell_type": "code",
   "execution_count": 4,
   "id": "2bd5e2f0",
   "metadata": {},
   "outputs": [
    {
     "name": "stdout",
     "output_type": "stream",
     "text": [
      "hello\n"
     ]
    },
    {
     "ename": "TypeError",
     "evalue": "Can't instantiate abstract class student with abstract method info",
     "output_type": "error",
     "traceback": [
      "\u001b[1;31m---------------------------------------------------------------------------\u001b[0m",
      "\u001b[1;31mTypeError\u001b[0m                                 Traceback (most recent call last)",
      "Input \u001b[1;32mIn [4]\u001b[0m, in \u001b[0;36m<cell line: 15>\u001b[1;34m()\u001b[0m\n\u001b[0;32m     13\u001b[0m x\u001b[38;5;241m=\u001b[39mdemo()\n\u001b[0;32m     14\u001b[0m x\u001b[38;5;241m.\u001b[39mfun()\n\u001b[1;32m---> 15\u001b[0m x\u001b[38;5;241m=\u001b[39m\u001b[43mstudent\u001b[49m\u001b[43m(\u001b[49m\u001b[43m)\u001b[49m\n\u001b[0;32m     16\u001b[0m x\u001b[38;5;241m.\u001b[39minfo()\n",
      "\u001b[1;31mTypeError\u001b[0m: Can't instantiate abstract class student with abstract method info"
     ]
    }
   ],
   "source": [
    "# abstraction method---\n",
    "\n",
    "from abc import ABC,abstractmethod\n",
    "class student(ABC):\n",
    "    @abstractmethod\n",
    "    def info(self,name,age):\n",
    "        print(name,age)\n",
    "        \n",
    "class demo:\n",
    "    def fun(self):\n",
    "        print(\"hello\")\n",
    "\n",
    "x=demo()\n",
    "x.fun()\n",
    "x=student()\n",
    "x.info()"
   ]
  },
  {
   "cell_type": "code",
   "execution_count": 9,
   "id": "ae3e4845",
   "metadata": {},
   "outputs": [
    {
     "ename": "TypeError",
     "evalue": "Can't instantiate abstract class info with abstract method add",
     "output_type": "error",
     "traceback": [
      "\u001b[1;31m---------------------------------------------------------------------------\u001b[0m",
      "\u001b[1;31mTypeError\u001b[0m                                 Traceback (most recent call last)",
      "Input \u001b[1;32mIn [9]\u001b[0m, in \u001b[0;36m<cell line: 14>\u001b[1;34m()\u001b[0m\n\u001b[0;32m     11\u001b[0m     \u001b[38;5;28;01mdef\u001b[39;00m \u001b[38;5;21mfun\u001b[39m(\u001b[38;5;28mself\u001b[39m):\n\u001b[0;32m     12\u001b[0m         \u001b[38;5;28mprint\u001b[39m(\u001b[38;5;124m\"\u001b[39m\u001b[38;5;124mhello  bro\u001b[39m\u001b[38;5;124m\"\u001b[39m)\n\u001b[1;32m---> 14\u001b[0m x\u001b[38;5;241m=\u001b[39m\u001b[43minfo\u001b[49m\u001b[43m(\u001b[49m\u001b[43m)\u001b[49m\n\u001b[0;32m     15\u001b[0m x\u001b[38;5;241m.\u001b[39mfun()\n",
      "\u001b[1;31mTypeError\u001b[0m: Can't instantiate abstract class info with abstract method add"
     ]
    }
   ],
   "source": [
    "#if hide the both class--first method\n",
    "\n",
    "from abc import ABC,abstractmethod\n",
    "\n",
    "class student(ABC):\n",
    "    @abstractmethod\n",
    "    def add(self,name,age):\n",
    "        print(name,age)\n",
    "\n",
    "class info(student):\n",
    "    def fun(self):\n",
    "        print(\"hello  bro\")\n",
    "\n",
    "x=info()\n",
    "x.fun()"
   ]
  },
  {
   "cell_type": "code",
   "execution_count": 11,
   "id": "d0d8ad07",
   "metadata": {},
   "outputs": [
    {
     "ename": "TypeError",
     "evalue": "Can't instantiate abstract class info with abstract method add",
     "output_type": "error",
     "traceback": [
      "\u001b[1;31m---------------------------------------------------------------------------\u001b[0m",
      "\u001b[1;31mTypeError\u001b[0m                                 Traceback (most recent call last)",
      "Input \u001b[1;32mIn [11]\u001b[0m, in \u001b[0;36m<cell line: 13>\u001b[1;34m()\u001b[0m\n\u001b[0;32m     10\u001b[0m     \u001b[38;5;129m@abstractmethod\u001b[39m\n\u001b[0;32m     11\u001b[0m     \u001b[38;5;28;01mdef\u001b[39;00m \u001b[38;5;21mfun\u001b[39m(\u001b[38;5;28mself\u001b[39m):\n\u001b[0;32m     12\u001b[0m         \u001b[38;5;28mprint\u001b[39m(\u001b[38;5;124m\"\u001b[39m\u001b[38;5;124mhello\u001b[39m\u001b[38;5;124m\"\u001b[39m)\n\u001b[1;32m---> 13\u001b[0m x\u001b[38;5;241m=\u001b[39m\u001b[43minfo\u001b[49m\u001b[43m(\u001b[49m\u001b[43m)\u001b[49m\n\u001b[0;32m     14\u001b[0m x\u001b[38;5;241m.\u001b[39madd()\n\u001b[0;32m     15\u001b[0m x\u001b[38;5;241m=\u001b[39mstudent()\n",
      "\u001b[1;31mTypeError\u001b[0m: Can't instantiate abstract class info with abstract method add"
     ]
    }
   ],
   "source": [
    "# second method--\n",
    "\n",
    "from abc import ABC,abstractmethod\n",
    "\n",
    "class info(ABC):\n",
    "    @abstractmethod\n",
    "    def add(self,name,age):\n",
    "        print(name,age)\n",
    "class student(ABC):\n",
    "    @abstractmethod\n",
    "    def fun(self):\n",
    "        print(\"hello\")\n",
    "x=info()\n",
    "x.add()\n",
    "x=student()\n",
    "x.fun()"
   ]
  },
  {
   "cell_type": "code",
   "execution_count": null,
   "id": "986379d7",
   "metadata": {},
   "outputs": [],
   "source": []
  }
 ],
 "metadata": {
  "kernelspec": {
   "display_name": "Python 3 (ipykernel)",
   "language": "python",
   "name": "python3"
  },
  "language_info": {
   "codemirror_mode": {
    "name": "ipython",
    "version": 3
   },
   "file_extension": ".py",
   "mimetype": "text/x-python",
   "name": "python",
   "nbconvert_exporter": "python",
   "pygments_lexer": "ipython3",
   "version": "3.9.12"
  }
 },
 "nbformat": 4,
 "nbformat_minor": 5
}
