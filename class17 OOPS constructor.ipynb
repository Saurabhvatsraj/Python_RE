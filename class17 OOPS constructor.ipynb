{
 "cells": [
  {
   "cell_type": "markdown",
   "id": "dee73494",
   "metadata": {},
   "source": [
    "# constructor"
   ]
  },
  {
   "cell_type": "code",
   "execution_count": 10,
   "id": "268426f9",
   "metadata": {},
   "outputs": [
    {
     "name": "stdout",
     "output_type": "stream",
     "text": [
      "raj 20\n"
     ]
    },
    {
     "data": {
      "text/plain": [
       "<__main__.info at 0x2273b6b5b50>"
      ]
     },
     "execution_count": 10,
     "metadata": {},
     "output_type": "execute_result"
    }
   ],
   "source": [
    "class info:\n",
    "    \n",
    "    def __init__(self,name,age):\n",
    "        self.name=name\n",
    "        self.age=age\n",
    "        print(name,age)\n",
    "info('raj',20)"
   ]
  },
  {
   "cell_type": "code",
   "execution_count": 14,
   "id": "c9402a04",
   "metadata": {},
   "outputs": [
    {
     "name": "stdout",
     "output_type": "stream",
     "text": [
      "ram 21\n",
      "105\n"
     ]
    }
   ],
   "source": [
    "# we can use construtor before and after function\n",
    "\n",
    "# before functio\n",
    "\n",
    "class info:\n",
    "    \n",
    "    def __init__(self,name,age):\n",
    "        self.name=name\n",
    "        self.age=age\n",
    "        print(name,age)\n",
    "        \n",
    "    def fun(self,x,y):\n",
    "        z=x+y\n",
    "        print(z)\n",
    "a=info('ram',21)\n",
    "a.fun(40,65)\n",
    "\n"
   ]
  },
  {
   "cell_type": "code",
   "execution_count": 15,
   "id": "398486c9",
   "metadata": {},
   "outputs": [
    {
     "name": "stdout",
     "output_type": "stream",
     "text": [
      "90\n",
      "saurabh 44\n"
     ]
    }
   ],
   "source": [
    "# after function\n",
    "\n",
    "class info:\n",
    "    def fun(Self,name,age):\n",
    "        print(name,age)\n",
    "    \n",
    "    def __init__(self,a,b):\n",
    "        c=a+b\n",
    "        self.a=a\n",
    "        self.b=b\n",
    "        print(c)\n",
    "x=info(34,56)\n",
    "x.fun(\"saurabh\",44)"
   ]
  },
  {
   "cell_type": "code",
   "execution_count": 21,
   "id": "2dea46d2",
   "metadata": {},
   "outputs": [
    {
     "name": "stdout",
     "output_type": "stream",
     "text": [
      "name  rakesh\n",
      "age  23\n",
      "salary  45000\n",
      "avg_salary_of_enp  4170.0\n"
     ]
    }
   ],
   "source": [
    "# wap a make class of emp having properties of name age salary and try ti get the output of the data \n",
    "# with the hepl of constructor also find the avg salary of emp?\n",
    "\n",
    "class emp:\n",
    "    def __init__(self,name,age,salary):\n",
    "        self.name=name\n",
    "        self.age=age\n",
    "        self.salary=salary\n",
    "        print(\"name\",\"\",name)\n",
    "        print(\"age\",\"\",age)\n",
    "        print(\"salary\",\"\",salary)\n",
    "        \n",
    "    def info(self,s1,s2,s3):\n",
    "        avg_sal=(s1+s2+s3)/3\n",
    "        print(\"avg_salary_of_enp\",\"\",avg_sal)\n",
    "x=emp(\"rakesh\",23,45000)\n",
    "x.info(3400,6799,2311)"
   ]
  },
  {
   "cell_type": "code",
   "execution_count": 29,
   "id": "95215ff3",
   "metadata": {},
   "outputs": [
    {
     "name": "stdout",
     "output_type": "stream",
     "text": [
      "final car price 2260000.0\n"
     ]
    }
   ],
   "source": [
    "#wap to make a class of automobile and try to calculate the price of the car if the car is of 20 lakh\n",
    "#then you have to pay 20%tax  and the showroom give you a disconut 7% on your purchase  so try to \n",
    "#find the actual price of the car with the hepl of constructor?\n",
    "\n",
    "\n",
    "class automobile:\n",
    "    def __init__(self,price,tax,dis):\n",
    "        self.price=price\n",
    "        self.tax=tax\n",
    "        self.dis=dis\n",
    "    def info(self):\n",
    "        actual_tax=self.tax-self.dis\n",
    "        tax_price=(self.price*actual_tax)/100\n",
    "        final_Car_price=tax_price+self.price\n",
    "        print(\"final car price\",final_Car_price)\n",
    "z=automobile(2000000,20,7)\n",
    "z.info()"
   ]
  },
  {
   "cell_type": "code",
   "execution_count": null,
   "id": "6fd95c8d",
   "metadata": {},
   "outputs": [],
   "source": []
  }
 ],
 "metadata": {
  "kernelspec": {
   "display_name": "Python 3 (ipykernel)",
   "language": "python",
   "name": "python3"
  },
  "language_info": {
   "codemirror_mode": {
    "name": "ipython",
    "version": 3
   },
   "file_extension": ".py",
   "mimetype": "text/x-python",
   "name": "python",
   "nbconvert_exporter": "python",
   "pygments_lexer": "ipython3",
   "version": "3.9.12"
  }
 },
 "nbformat": 4,
 "nbformat_minor": 5
}
