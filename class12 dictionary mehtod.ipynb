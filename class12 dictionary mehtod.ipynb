{
 "cells": [
  {
   "cell_type": "code",
   "execution_count": 1,
   "id": "c4f56be1",
   "metadata": {},
   "outputs": [
    {
     "data": {
      "text/plain": [
       "{'name': 'ram',\n",
       " 'age': 67,\n",
       " 'salary': 700,\n",
       " 0: 0,\n",
       " '1': '0',\n",
       " 'z': {'cotact': 7890, 'add': 'up', 0: 'hello', '1': '123456'}}"
      ]
     },
     "execution_count": 1,
     "metadata": {},
     "output_type": "execute_result"
    }
   ],
   "source": [
    "# dic method----1.keys 2.values 3.items\n",
    "\n",
    "# keys \n",
    "\n",
    "x={\n",
    "    'name':'ram',\n",
    "    'age':67,\n",
    "    'salary':700,\n",
    "    0:0,\n",
    "    '1':'0',\n",
    "    \n",
    "    'z':{\n",
    "        'cotact':7890,\n",
    "        'add':'up',\n",
    "        0:'hello',\n",
    "        '1':1,\n",
    "        '1':'123456'\n",
    "    }\n",
    "}\n",
    "x"
   ]
  },
  {
   "cell_type": "code",
   "execution_count": 3,
   "id": "6c3cda5e",
   "metadata": {},
   "outputs": [
    {
     "data": {
      "text/plain": [
       "dict_keys(['name', 'age', 'salary', 0, '1', 'z'])"
      ]
     },
     "execution_count": 3,
     "metadata": {},
     "output_type": "execute_result"
    }
   ],
   "source": [
    "x.keys()"
   ]
  },
  {
   "cell_type": "code",
   "execution_count": 4,
   "id": "bcd7d961",
   "metadata": {},
   "outputs": [
    {
     "data": {
      "text/plain": [
       "dict_values(['ram', 67, 700, 0, '0', {'cotact': 7890, 'add': 'up', 0: 'hello', '1': '123456'}])"
      ]
     },
     "execution_count": 4,
     "metadata": {},
     "output_type": "execute_result"
    }
   ],
   "source": [
    "x.values()"
   ]
  },
  {
   "cell_type": "code",
   "execution_count": 5,
   "id": "af90d4cc",
   "metadata": {},
   "outputs": [
    {
     "data": {
      "text/plain": [
       "dict_items([('name', 'ram'), ('age', 67), ('salary', 700), (0, 0), ('1', '0'), ('z', {'cotact': 7890, 'add': 'up', 0: 'hello', '1': '123456'})])"
      ]
     },
     "execution_count": 5,
     "metadata": {},
     "output_type": "execute_result"
    }
   ],
   "source": [
    "x.items()"
   ]
  },
  {
   "cell_type": "code",
   "execution_count": 6,
   "id": "eb679e59",
   "metadata": {},
   "outputs": [
    {
     "data": {
      "text/plain": [
       "{'name': 'ram',\n",
       " 'age': 67,\n",
       " 'salary': 700,\n",
       " 0: 0,\n",
       " '1': '0',\n",
       " 'z': {'cotact': 7890, 'add': 'up', 0: 'hello', '1': '123456'}}"
      ]
     },
     "execution_count": 6,
     "metadata": {},
     "output_type": "execute_result"
    }
   ],
   "source": [
    "# len\n",
    "# min\n",
    "# max\n",
    "x={\n",
    "    'name':'ram',\n",
    "    'age':67,\n",
    "    'salary':700,\n",
    "    0:0,\n",
    "    '1':'0',\n",
    "    \n",
    "    'z':{\n",
    "        'cotact':7890,\n",
    "        'add':'up',\n",
    "        0:'hello',\n",
    "        '1':1,\n",
    "        '1':'123456'\n",
    "    }\n",
    "}\n",
    "x"
   ]
  },
  {
   "cell_type": "code",
   "execution_count": 7,
   "id": "4cfed8a4",
   "metadata": {},
   "outputs": [
    {
     "data": {
      "text/plain": [
       "6"
      ]
     },
     "execution_count": 7,
     "metadata": {},
     "output_type": "execute_result"
    }
   ],
   "source": [
    "len(x)"
   ]
  },
  {
   "cell_type": "code",
   "execution_count": 8,
   "id": "9d3d703e",
   "metadata": {},
   "outputs": [
    {
     "data": {
      "text/plain": [
       "4"
      ]
     },
     "execution_count": 8,
     "metadata": {},
     "output_type": "execute_result"
    }
   ],
   "source": [
    "len(x['z'])"
   ]
  },
  {
   "cell_type": "code",
   "execution_count": 9,
   "id": "36eeaa2e",
   "metadata": {},
   "outputs": [
    {
     "data": {
      "text/plain": [
       "'low'"
      ]
     },
     "execution_count": 9,
     "metadata": {},
     "output_type": "execute_result"
    }
   ],
   "source": [
    "# max\n",
    "s={\n",
    "    'low':[23,34,78,9,45],\n",
    "    'high':[89,90,66,34]\n",
    "}\n",
    "max(s)"
   ]
  },
  {
   "cell_type": "code",
   "execution_count": 10,
   "id": "5680185f",
   "metadata": {},
   "outputs": [
    {
     "data": {
      "text/plain": [
       "[23, 34, 78, 9, 45]"
      ]
     },
     "execution_count": 10,
     "metadata": {},
     "output_type": "execute_result"
    }
   ],
   "source": [
    "a=s['low']\n",
    "a\n"
   ]
  },
  {
   "cell_type": "code",
   "execution_count": 11,
   "id": "44942701",
   "metadata": {},
   "outputs": [
    {
     "data": {
      "text/plain": [
       "78"
      ]
     },
     "execution_count": 11,
     "metadata": {},
     "output_type": "execute_result"
    }
   ],
   "source": [
    "max(s['low'])"
   ]
  },
  {
   "cell_type": "code",
   "execution_count": 12,
   "id": "9de4c550",
   "metadata": {},
   "outputs": [
    {
     "data": {
      "text/plain": [
       "78"
      ]
     },
     "execution_count": 12,
     "metadata": {},
     "output_type": "execute_result"
    }
   ],
   "source": [
    "max(a)"
   ]
  },
  {
   "cell_type": "code",
   "execution_count": 13,
   "id": "7039dee2",
   "metadata": {},
   "outputs": [
    {
     "data": {
      "text/plain": [
       "'high'"
      ]
     },
     "execution_count": 13,
     "metadata": {},
     "output_type": "execute_result"
    }
   ],
   "source": [
    "# min \n",
    "s={\n",
    "    'low':[23,34,78,9,45],\n",
    "    'high':[89,90,66,34]\n",
    "}\n",
    "min(s)"
   ]
  },
  {
   "cell_type": "code",
   "execution_count": 14,
   "id": "c0975cab",
   "metadata": {},
   "outputs": [
    {
     "data": {
      "text/plain": [
       "[23, 34, 78, 9, 45]"
      ]
     },
     "execution_count": 14,
     "metadata": {},
     "output_type": "execute_result"
    }
   ],
   "source": [
    "b=s['low']\n",
    "b"
   ]
  },
  {
   "cell_type": "code",
   "execution_count": 15,
   "id": "5154b8d2",
   "metadata": {},
   "outputs": [
    {
     "data": {
      "text/plain": [
       "9"
      ]
     },
     "execution_count": 15,
     "metadata": {},
     "output_type": "execute_result"
    }
   ],
   "source": [
    "min(b)"
   ]
  },
  {
   "cell_type": "code",
   "execution_count": 17,
   "id": "3f5376f7",
   "metadata": {},
   "outputs": [
    {
     "data": {
      "text/plain": [
       "9"
      ]
     },
     "execution_count": 17,
     "metadata": {},
     "output_type": "execute_result"
    }
   ],
   "source": [
    "min(s['low'])"
   ]
  },
  {
   "cell_type": "code",
   "execution_count": 18,
   "id": "a60cda8d",
   "metadata": {},
   "outputs": [
    {
     "data": {
      "text/plain": [
       "{'name': 'ram',\n",
       " 'age': 67,\n",
       " 'salary': 700,\n",
       " 0: 0,\n",
       " '1': '0',\n",
       " 'z': {'cotact': 7890, 'add': 'up', 0: 'hello', '1': '123456'}}"
      ]
     },
     "execution_count": 18,
     "metadata": {},
     "output_type": "execute_result"
    }
   ],
   "source": [
    "# task find the len of z\n",
    "x={\n",
    "    'name':'ram',\n",
    "    'age':67,\n",
    "    'salary':700,\n",
    "    0:0,\n",
    "    '1':'0',\n",
    "    \n",
    "    'z':{\n",
    "        'cotact':7890,\n",
    "        'add':'up',\n",
    "        0:'hello',\n",
    "        '1':1,\n",
    "        '1':'123456'\n",
    "    }\n",
    "}\n",
    "x"
   ]
  },
  {
   "cell_type": "code",
   "execution_count": 19,
   "id": "4ddb3ec5",
   "metadata": {},
   "outputs": [
    {
     "data": {
      "text/plain": [
       "4"
      ]
     },
     "execution_count": 19,
     "metadata": {},
     "output_type": "execute_result"
    }
   ],
   "source": [
    "len(x['z'])"
   ]
  },
  {
   "cell_type": "code",
   "execution_count": 20,
   "id": "e3566166",
   "metadata": {},
   "outputs": [
    {
     "data": {
      "text/plain": [
       "{'name': 'ram',\n",
       " 'age': 67,\n",
       " 'salary': 700,\n",
       " 0: 0,\n",
       " '1': '0',\n",
       " 'z': {'cotact': 7890, 'add': 'up', 0: 'hello', '1': '123456'}}"
      ]
     },
     "execution_count": 20,
     "metadata": {},
     "output_type": "execute_result"
    }
   ],
   "source": [
    "# update\n",
    "x={\n",
    "    'name':'ram',\n",
    "    'age':67,\n",
    "    'salary':700,\n",
    "    0:0,\n",
    "    '1':'0',\n",
    "    \n",
    "    'z':{\n",
    "        'cotact':7890,\n",
    "        'add':'up',\n",
    "        0:'hello',\n",
    "        '1':1,\n",
    "        '1':'123456'\n",
    "    }\n",
    "}\n",
    "x"
   ]
  },
  {
   "cell_type": "code",
   "execution_count": 21,
   "id": "11672ea8",
   "metadata": {},
   "outputs": [],
   "source": [
    "# update\n",
    "x.update({'name':'saurabh'})"
   ]
  },
  {
   "cell_type": "code",
   "execution_count": 22,
   "id": "024eafb2",
   "metadata": {},
   "outputs": [
    {
     "data": {
      "text/plain": [
       "{'name': 'saurabh',\n",
       " 'age': 67,\n",
       " 'salary': 700,\n",
       " 0: 0,\n",
       " '1': '0',\n",
       " 'z': {'cotact': 7890, 'add': 'up', 0: 'hello', '1': '123456'}}"
      ]
     },
     "execution_count": 22,
     "metadata": {},
     "output_type": "execute_result"
    }
   ],
   "source": [
    "x"
   ]
  },
  {
   "cell_type": "code",
   "execution_count": 23,
   "id": "bfd85975",
   "metadata": {},
   "outputs": [
    {
     "data": {
      "text/plain": [
       "{'name': 'saurabh',\n",
       " 'age': 70,\n",
       " 'salary': 700,\n",
       " 0: 0,\n",
       " '1': '0',\n",
       " 'z': {'cotact': 7890, 'add': 'up', 0: 'hello', '1': '123456'}}"
      ]
     },
     "execution_count": 23,
     "metadata": {},
     "output_type": "execute_result"
    }
   ],
   "source": [
    "x.update({'age':70})\n",
    "x"
   ]
  },
  {
   "cell_type": "code",
   "execution_count": 24,
   "id": "e5e30dc1",
   "metadata": {},
   "outputs": [
    {
     "data": {
      "text/plain": [
       "{'name': 'saurabh',\n",
       " 'age': 70,\n",
       " 'salary': 700,\n",
       " 0: 0,\n",
       " '1': '0',\n",
       " 'z': {'cotact': 7890, 'add': 'up', 0: 'hello', '1': '123456'},\n",
       " 'add': ['mp', 'mh']}"
      ]
     },
     "execution_count": 24,
     "metadata": {},
     "output_type": "execute_result"
    }
   ],
   "source": [
    "x.update({'add':['mp','mh']})\n",
    "x"
   ]
  },
  {
   "cell_type": "code",
   "execution_count": 25,
   "id": "f8a5a3d8",
   "metadata": {},
   "outputs": [],
   "source": [
    "# dic method----\n",
    "#clear\n",
    "# copy\n",
    "#pop\n",
    "#from keys\n",
    "#get\n"
   ]
  },
  {
   "cell_type": "code",
   "execution_count": 26,
   "id": "1fde2942",
   "metadata": {},
   "outputs": [
    {
     "data": {
      "text/plain": [
       "{'name': 'ramesh', 'age': 50, 'salary': '2k'}"
      ]
     },
     "execution_count": 26,
     "metadata": {},
     "output_type": "execute_result"
    }
   ],
   "source": [
    "# copy\n",
    "\n",
    "x={\n",
    "    'name':'ramesh',\n",
    "    'age':50,\n",
    "    'salary':'2k'\n",
    "}\n",
    "x"
   ]
  },
  {
   "cell_type": "code",
   "execution_count": 27,
   "id": "9b043ef0",
   "metadata": {},
   "outputs": [
    {
     "data": {
      "text/plain": [
       "{'name': 'ramesh', 'age': 50, 'salary': '2k'}"
      ]
     },
     "execution_count": 27,
     "metadata": {},
     "output_type": "execute_result"
    }
   ],
   "source": [
    "y=x.copy()\n",
    "y"
   ]
  },
  {
   "cell_type": "code",
   "execution_count": 28,
   "id": "94aff9fe",
   "metadata": {},
   "outputs": [
    {
     "data": {
      "text/plain": [
       "'ramesh'"
      ]
     },
     "execution_count": 28,
     "metadata": {},
     "output_type": "execute_result"
    }
   ],
   "source": [
    "# pop\n",
    "\n",
    "x={\n",
    "    'name':'ramesh',\n",
    "    'age':50,\n",
    "    'salary':'2k'\n",
    "}\n",
    "x.pop('name')"
   ]
  },
  {
   "cell_type": "code",
   "execution_count": 29,
   "id": "ed235368",
   "metadata": {},
   "outputs": [
    {
     "data": {
      "text/plain": [
       "{'age': 50, 'salary': '2k'}"
      ]
     },
     "execution_count": 29,
     "metadata": {},
     "output_type": "execute_result"
    }
   ],
   "source": [
    "x"
   ]
  },
  {
   "cell_type": "code",
   "execution_count": 30,
   "id": "2e9db52f",
   "metadata": {},
   "outputs": [
    {
     "data": {
      "text/plain": [
       "'2k'"
      ]
     },
     "execution_count": 30,
     "metadata": {},
     "output_type": "execute_result"
    }
   ],
   "source": [
    "x.pop('salary')"
   ]
  },
  {
   "cell_type": "code",
   "execution_count": 33,
   "id": "93af9b36",
   "metadata": {},
   "outputs": [
    {
     "data": {
      "text/plain": [
       "{'age': 50}"
      ]
     },
     "execution_count": 33,
     "metadata": {},
     "output_type": "execute_result"
    }
   ],
   "source": [
    "x"
   ]
  },
  {
   "cell_type": "code",
   "execution_count": 34,
   "id": "e18f18eb",
   "metadata": {},
   "outputs": [
    {
     "data": {
      "text/plain": [
       "50"
      ]
     },
     "execution_count": 34,
     "metadata": {},
     "output_type": "execute_result"
    }
   ],
   "source": [
    "x.pop('age')"
   ]
  },
  {
   "cell_type": "code",
   "execution_count": 35,
   "id": "a108499a",
   "metadata": {},
   "outputs": [
    {
     "data": {
      "text/plain": [
       "{}"
      ]
     },
     "execution_count": 35,
     "metadata": {},
     "output_type": "execute_result"
    }
   ],
   "source": [
    "x"
   ]
  },
  {
   "cell_type": "code",
   "execution_count": 36,
   "id": "19307bf2",
   "metadata": {},
   "outputs": [
    {
     "data": {
      "text/plain": [
       "'ramesh'"
      ]
     },
     "execution_count": 36,
     "metadata": {},
     "output_type": "execute_result"
    }
   ],
   "source": [
    "# get\n",
    "x={\n",
    "    'name':'ramesh',\n",
    "    'age':50,\n",
    "    'salary':'2k'\n",
    "}\n",
    "x.get('name')"
   ]
  },
  {
   "cell_type": "code",
   "execution_count": 37,
   "id": "2ccfab2b",
   "metadata": {},
   "outputs": [
    {
     "data": {
      "text/plain": [
       "'2k'"
      ]
     },
     "execution_count": 37,
     "metadata": {},
     "output_type": "execute_result"
    }
   ],
   "source": [
    "x.get('salary')"
   ]
  },
  {
   "cell_type": "code",
   "execution_count": 38,
   "id": "9ed7a229",
   "metadata": {},
   "outputs": [],
   "source": [
    "#clear\n",
    "x={\n",
    "    'name':'ramesh',\n",
    "    'age':50,\n",
    "    'salary':'2k'\n",
    "}\n",
    "\n",
    "x.clear()\n"
   ]
  },
  {
   "cell_type": "code",
   "execution_count": 39,
   "id": "e8757ab6",
   "metadata": {},
   "outputs": [
    {
     "data": {
      "text/plain": [
       "{}"
      ]
     },
     "execution_count": 39,
     "metadata": {},
     "output_type": "execute_result"
    }
   ],
   "source": [
    "x"
   ]
  },
  {
   "cell_type": "code",
   "execution_count": 40,
   "id": "b76a075e",
   "metadata": {},
   "outputs": [
    {
     "data": {
      "text/plain": [
       "{'name': 'saurabh'}"
      ]
     },
     "execution_count": 40,
     "metadata": {},
     "output_type": "execute_result"
    }
   ],
   "source": [
    "# wap to make a dic of single element\n",
    "\n",
    "x={\n",
    "    'name':'saurabh'\n",
    "}\n",
    "x"
   ]
  },
  {
   "cell_type": "code",
   "execution_count": 41,
   "id": "4b4f7af0",
   "metadata": {},
   "outputs": [
    {
     "data": {
      "text/plain": [
       "{}"
      ]
     },
     "execution_count": 41,
     "metadata": {},
     "output_type": "execute_result"
    }
   ],
   "source": [
    "# wap to make a dic of element\n",
    "x={}\n",
    "x"
   ]
  },
  {
   "cell_type": "code",
   "execution_count": 42,
   "id": "9f8c559f",
   "metadata": {},
   "outputs": [
    {
     "data": {
      "text/plain": [
       "dict"
      ]
     },
     "execution_count": 42,
     "metadata": {},
     "output_type": "execute_result"
    }
   ],
   "source": [
    "type(x)"
   ]
  },
  {
   "cell_type": "code",
   "execution_count": null,
   "id": "53ebdee8",
   "metadata": {},
   "outputs": [],
   "source": []
  }
 ],
 "metadata": {
  "kernelspec": {
   "display_name": "Python 3 (ipykernel)",
   "language": "python",
   "name": "python3"
  },
  "language_info": {
   "codemirror_mode": {
    "name": "ipython",
    "version": 3
   },
   "file_extension": ".py",
   "mimetype": "text/x-python",
   "name": "python",
   "nbconvert_exporter": "python",
   "pygments_lexer": "ipython3",
   "version": "3.9.12"
  }
 },
 "nbformat": 4,
 "nbformat_minor": 5
}
