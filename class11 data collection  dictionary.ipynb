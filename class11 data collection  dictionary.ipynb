{
 "cells": [
  {
   "cell_type": "code",
   "execution_count": 1,
   "id": "0d8d6e40",
   "metadata": {},
   "outputs": [
    {
     "data": {
      "text/plain": [
       "{'name': 'ramesh', 'age': 50, 'salary': '2k'}"
      ]
     },
     "execution_count": 1,
     "metadata": {},
     "output_type": "execute_result"
    }
   ],
   "source": [
    "# wap to make a dic of emp having name ,age & salary\n",
    "\n",
    "x={\n",
    "    'name':'ramesh',\n",
    "    'age':50,\n",
    "    'salary':'2k'\n",
    "}\n",
    "x"
   ]
  },
  {
   "cell_type": "code",
   "execution_count": 2,
   "id": "ce7d401e",
   "metadata": {},
   "outputs": [
    {
     "data": {
      "text/plain": [
       "{'name': 'ramesh', 'age': 50, 'salary': '2k'}"
      ]
     },
     "execution_count": 2,
     "metadata": {},
     "output_type": "execute_result"
    }
   ],
   "source": [
    "# slicing with the indexing\n",
    "x"
   ]
  },
  {
   "cell_type": "code",
   "execution_count": 3,
   "id": "a650a531",
   "metadata": {},
   "outputs": [
    {
     "data": {
      "text/plain": [
       "'ramesh'"
      ]
     },
     "execution_count": 3,
     "metadata": {},
     "output_type": "execute_result"
    }
   ],
   "source": [
    "x['name']"
   ]
  },
  {
   "cell_type": "code",
   "execution_count": 4,
   "id": "baf5ab69",
   "metadata": {},
   "outputs": [
    {
     "data": {
      "text/plain": [
       "50"
      ]
     },
     "execution_count": 4,
     "metadata": {},
     "output_type": "execute_result"
    }
   ],
   "source": [
    "x['age']"
   ]
  },
  {
   "cell_type": "code",
   "execution_count": 5,
   "id": "da08c949",
   "metadata": {},
   "outputs": [
    {
     "data": {
      "text/plain": [
       "{'name': 'ramesh', 'age': 50, 'salary': '2k'}"
      ]
     },
     "execution_count": 5,
     "metadata": {},
     "output_type": "execute_result"
    }
   ],
   "source": [
    "# dic has mutable\n",
    "x\n"
   ]
  },
  {
   "cell_type": "code",
   "execution_count": 6,
   "id": "7a7ccc21",
   "metadata": {},
   "outputs": [],
   "source": [
    "x['name']='mohan'"
   ]
  },
  {
   "cell_type": "code",
   "execution_count": 7,
   "id": "8110b733",
   "metadata": {},
   "outputs": [
    {
     "data": {
      "text/plain": [
       "{'name': 'mohan', 'age': 50, 'salary': '2k'}"
      ]
     },
     "execution_count": 7,
     "metadata": {},
     "output_type": "execute_result"
    }
   ],
   "source": [
    "x"
   ]
  },
  {
   "cell_type": "code",
   "execution_count": 8,
   "id": "16f80f58",
   "metadata": {},
   "outputs": [
    {
     "data": {
      "text/plain": [
       "{'name': ['ram', 'abc', 'xyz'], 'age': (56, 89, 40), 'salary': [2300, 4600]}"
      ]
     },
     "execution_count": 8,
     "metadata": {},
     "output_type": "execute_result"
    }
   ],
   "source": [
    "# dic have multi data list or tuple store krwa skte h\n",
    "\n",
    "x={\n",
    "    'name':['ram','abc','xyz'],\n",
    "    'age':(56,89,40),\n",
    "    'salary':[2300,4600]\n",
    "}\n",
    "x"
   ]
  },
  {
   "cell_type": "code",
   "execution_count": 9,
   "id": "5443a523",
   "metadata": {},
   "outputs": [
    {
     "data": {
      "text/plain": [
       "['ram', 'abc', 'xyz']"
      ]
     },
     "execution_count": 9,
     "metadata": {},
     "output_type": "execute_result"
    }
   ],
   "source": [
    "x['name']"
   ]
  },
  {
   "cell_type": "code",
   "execution_count": 10,
   "id": "d287f6bb",
   "metadata": {},
   "outputs": [
    {
     "data": {
      "text/plain": [
       "(56, 89, 40)"
      ]
     },
     "execution_count": 10,
     "metadata": {},
     "output_type": "execute_result"
    }
   ],
   "source": [
    "x['age']"
   ]
  },
  {
   "cell_type": "code",
   "execution_count": 12,
   "id": "bc7053e3",
   "metadata": {},
   "outputs": [
    {
     "data": {
      "text/plain": [
       "89"
      ]
     },
     "execution_count": 12,
     "metadata": {},
     "output_type": "execute_result"
    }
   ],
   "source": [
    "x['age'][1]"
   ]
  },
  {
   "cell_type": "code",
   "execution_count": 13,
   "id": "0291141b",
   "metadata": {},
   "outputs": [
    {
     "data": {
      "text/plain": [
       "'xyz'"
      ]
     },
     "execution_count": 13,
     "metadata": {},
     "output_type": "execute_result"
    }
   ],
   "source": [
    "x['name'][2]"
   ]
  },
  {
   "cell_type": "code",
   "execution_count": 14,
   "id": "04c56dc1",
   "metadata": {},
   "outputs": [],
   "source": [
    "x['name'][1]='rajput'"
   ]
  },
  {
   "cell_type": "code",
   "execution_count": 15,
   "id": "8370e28f",
   "metadata": {},
   "outputs": [
    {
     "data": {
      "text/plain": [
       "{'name': ['ram', 'rajput', 'xyz'], 'age': (56, 89, 40), 'salary': [2300, 4600]}"
      ]
     },
     "execution_count": 15,
     "metadata": {},
     "output_type": "execute_result"
    }
   ],
   "source": [
    "x"
   ]
  },
  {
   "cell_type": "code",
   "execution_count": 16,
   "id": "3319bca7",
   "metadata": {},
   "outputs": [
    {
     "ename": "TypeError",
     "evalue": "'tuple' object does not support item assignment",
     "output_type": "error",
     "traceback": [
      "\u001b[1;31m---------------------------------------------------------------------------\u001b[0m",
      "\u001b[1;31mTypeError\u001b[0m                                 Traceback (most recent call last)",
      "Input \u001b[1;32mIn [16]\u001b[0m, in \u001b[0;36m<cell line: 1>\u001b[1;34m()\u001b[0m\n\u001b[1;32m----> 1\u001b[0m x[\u001b[38;5;124m'\u001b[39m\u001b[38;5;124mage\u001b[39m\u001b[38;5;124m'\u001b[39m][\u001b[38;5;241m2\u001b[39m]\u001b[38;5;241m=\u001b[39m\u001b[38;5;241m80\u001b[39m\n",
      "\u001b[1;31mTypeError\u001b[0m: 'tuple' object does not support item assignment"
     ]
    }
   ],
   "source": [
    "x['age'][2]=80"
   ]
  },
  {
   "cell_type": "code",
   "execution_count": 17,
   "id": "565b8079",
   "metadata": {},
   "outputs": [
    {
     "data": {
      "text/plain": [
       "{'name': ['ram', 'rajput', 'xyz'], 'age': (56, 89, 40), 'salary': [2300, 700]}"
      ]
     },
     "execution_count": 17,
     "metadata": {},
     "output_type": "execute_result"
    }
   ],
   "source": [
    "x['salary'][1]=700\n",
    "x"
   ]
  },
  {
   "cell_type": "code",
   "execution_count": 18,
   "id": "851a2f4e",
   "metadata": {},
   "outputs": [
    {
     "data": {
      "text/plain": [
       "{'name': 'xyz',\n",
       " 'age': 20,\n",
       " 'salary': 2300,\n",
       " 'z': {'number': 12345, 'add': 'delhi'}}"
      ]
     },
     "execution_count": 18,
     "metadata": {},
     "output_type": "execute_result"
    }
   ],
   "source": [
    "# lests make a dic inside a dic\n",
    "\n",
    "x={\n",
    "    'name':'xyz',\n",
    "    'age':20,\n",
    "    'salary':2300,\n",
    "    \n",
    "    \n",
    "    'z':{\n",
    "        'number':12345,\n",
    "        'add':'delhi'\n",
    "    }\n",
    "}\n",
    "x"
   ]
  },
  {
   "cell_type": "code",
   "execution_count": 19,
   "id": "a60ca441",
   "metadata": {},
   "outputs": [
    {
     "name": "stdout",
     "output_type": "stream",
     "text": [
      "{'name': 'xyz', 'age': 20, 'salary': 2300, 'z': {'number': 12345, 'add': 'delhi'}}\n"
     ]
    }
   ],
   "source": [
    "x:{\n",
    "    'name':'abc',\n",
    "    'age':30,\n",
    "    'salary':3000,\n",
    "    0:0,\n",
    "    'z':{\n",
    "        'number':12345,\n",
    "        'add':'delhi'\n",
    "    }\n",
    "}\n",
    "print(x)"
   ]
  },
  {
   "cell_type": "code",
   "execution_count": 20,
   "id": "f502b39b",
   "metadata": {},
   "outputs": [
    {
     "data": {
      "text/plain": [
       "{'name': 'ram',\n",
       " 'age': 20,\n",
       " 'salary': 600,\n",
       " 0: 0,\n",
       " '1': 6,\n",
       " 'z': {'contact': '123', 'add': 'delhi'}}"
      ]
     },
     "execution_count": 20,
     "metadata": {},
     "output_type": "execute_result"
    }
   ],
   "source": [
    "x={\n",
    "    'name':'ram',\n",
    "    'age':20,\n",
    "    'salary':600,\n",
    "    0:0,\n",
    "    '1':6,\n",
    "    \n",
    "    'z':{\n",
    "        'contact':'123',\n",
    "        'add':'delhi'\n",
    "    }\n",
    "}\n",
    "x"
   ]
  },
  {
   "cell_type": "code",
   "execution_count": 21,
   "id": "dd8bd4f3",
   "metadata": {},
   "outputs": [
    {
     "data": {
      "text/plain": [
       "{'name': 'ram',\n",
       " 'age': 67,\n",
       " 'salary': 700,\n",
       " 0: 0,\n",
       " '1': '0',\n",
       " 'z': {'cotact': 7890, 'add': 'up', 0: 'hello', '1': '123456'}}"
      ]
     },
     "execution_count": 21,
     "metadata": {},
     "output_type": "execute_result"
    }
   ],
   "source": [
    "x={\n",
    "    'name':'ram',\n",
    "    'age':67,\n",
    "    'salary':700,\n",
    "    0:0,\n",
    "    '1':'0',\n",
    "    \n",
    "    'z':{\n",
    "        'cotact':7890,\n",
    "        'add':'up',\n",
    "        0:'hello',\n",
    "        '1':1,\n",
    "        '1':'123456'\n",
    "    }\n",
    "}\n",
    "x"
   ]
  },
  {
   "cell_type": "code",
   "execution_count": 22,
   "id": "b59e53ce",
   "metadata": {},
   "outputs": [
    {
     "data": {
      "text/plain": [
       "'ram'"
      ]
     },
     "execution_count": 22,
     "metadata": {},
     "output_type": "execute_result"
    }
   ],
   "source": [
    "x['name']"
   ]
  },
  {
   "cell_type": "code",
   "execution_count": 23,
   "id": "d93a4f68",
   "metadata": {},
   "outputs": [
    {
     "data": {
      "text/plain": [
       "'hello'"
      ]
     },
     "execution_count": 23,
     "metadata": {},
     "output_type": "execute_result"
    }
   ],
   "source": [
    "x['z'][0]"
   ]
  },
  {
   "cell_type": "code",
   "execution_count": 24,
   "id": "14df30d0",
   "metadata": {},
   "outputs": [
    {
     "data": {
      "text/plain": [
       "{'name': 'ram',\n",
       " 'age': 67,\n",
       " 'salary': 700,\n",
       " 0: 0,\n",
       " '1': '0',\n",
       " 'z': {'cotact': 7890, 'add': 'up', 0: 'hello', '1': '123456'}}"
      ]
     },
     "execution_count": 24,
     "metadata": {},
     "output_type": "execute_result"
    }
   ],
   "source": [
    "x"
   ]
  },
  {
   "cell_type": "code",
   "execution_count": null,
   "id": "429d75ee",
   "metadata": {},
   "outputs": [],
   "source": []
  }
 ],
 "metadata": {
  "kernelspec": {
   "display_name": "Python 3 (ipykernel)",
   "language": "python",
   "name": "python3"
  },
  "language_info": {
   "codemirror_mode": {
    "name": "ipython",
    "version": 3
   },
   "file_extension": ".py",
   "mimetype": "text/x-python",
   "name": "python",
   "nbconvert_exporter": "python",
   "pygments_lexer": "ipython3",
   "version": "3.9.12"
  }
 },
 "nbformat": 4,
 "nbformat_minor": 5
}
