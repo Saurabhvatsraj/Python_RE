{
 "cells": [
  {
   "cell_type": "code",
   "execution_count": 1,
   "id": "83b8e83e",
   "metadata": {},
   "outputs": [
    {
     "name": "stdout",
     "output_type": "stream",
     "text": [
      "Hi\n"
     ]
    }
   ],
   "source": [
    "#Encapsulation----hiding the data\n",
    "\n",
    "#1.Private mode 2.Public mode-----Access modifire\n",
    "\n",
    "# Public Mode----\n",
    "\n",
    "class fun:\n",
    "    def add(self):\n",
    "        print(\"Hi\")\n",
    "x=fun()\n",
    "x.add()"
   ]
  },
  {
   "cell_type": "code",
   "execution_count": 3,
   "id": "f96c1f71",
   "metadata": {},
   "outputs": [
    {
     "ename": "AttributeError",
     "evalue": "'info' object has no attribute 'add'",
     "output_type": "error",
     "traceback": [
      "\u001b[1;31m---------------------------------------------------------------------------\u001b[0m",
      "\u001b[1;31mAttributeError\u001b[0m                            Traceback (most recent call last)",
      "Input \u001b[1;32mIn [3]\u001b[0m, in \u001b[0;36m<cell line: 7>\u001b[1;34m()\u001b[0m\n\u001b[0;32m      5\u001b[0m         \u001b[38;5;28mprint\u001b[39m(\u001b[38;5;124m\"\u001b[39m\u001b[38;5;124mhello\u001b[39m\u001b[38;5;124m\"\u001b[39m)\n\u001b[0;32m      6\u001b[0m x\u001b[38;5;241m=\u001b[39minfo()\n\u001b[1;32m----> 7\u001b[0m \u001b[43mx\u001b[49m\u001b[38;5;241;43m.\u001b[39;49m\u001b[43madd\u001b[49m()\n",
      "\u001b[1;31mAttributeError\u001b[0m: 'info' object has no attribute 'add'"
     ]
    }
   ],
   "source": [
    "#private mode----\n",
    "\n",
    "class info:\n",
    "    def __add(self):\n",
    "        print(\"hello\")\n",
    "x=info()\n",
    "x.add()"
   ]
  },
  {
   "cell_type": "code",
   "execution_count": 4,
   "id": "0d0ac2d4",
   "metadata": {},
   "outputs": [
    {
     "name": "stdout",
     "output_type": "stream",
     "text": [
      "23\n"
     ]
    },
    {
     "ename": "AttributeError",
     "evalue": "'info' object has no attribute 'add'",
     "output_type": "error",
     "traceback": [
      "\u001b[1;31m---------------------------------------------------------------------------\u001b[0m",
      "\u001b[1;31mAttributeError\u001b[0m                            Traceback (most recent call last)",
      "Input \u001b[1;32mIn [4]\u001b[0m, in \u001b[0;36m<cell line: 8>\u001b[1;34m()\u001b[0m\n\u001b[0;32m      6\u001b[0m x\u001b[38;5;241m=\u001b[39minfo()\n\u001b[0;32m      7\u001b[0m x\u001b[38;5;241m.\u001b[39mfun(\u001b[38;5;241m23\u001b[39m)\n\u001b[1;32m----> 8\u001b[0m \u001b[43mx\u001b[49m\u001b[38;5;241;43m.\u001b[39;49m\u001b[43madd\u001b[49m(\u001b[38;5;124m\"\u001b[39m\u001b[38;5;124mraj\u001b[39m\u001b[38;5;124m\"\u001b[39m)\n",
      "\u001b[1;31mAttributeError\u001b[0m: 'info' object has no attribute 'add'"
     ]
    }
   ],
   "source": [
    "class info:\n",
    "    def __add(self,name):\n",
    "        print(name)\n",
    "    def fun(self,age):\n",
    "        print(age)\n",
    "x=info()\n",
    "x.fun(23)\n",
    "x.add(\"raj\")"
   ]
  },
  {
   "cell_type": "code",
   "execution_count": 6,
   "id": "87d1de53",
   "metadata": {},
   "outputs": [
    {
     "ename": "AttributeError",
     "evalue": "'x' object has no attribute 'a'",
     "output_type": "error",
     "traceback": [
      "\u001b[1;31m---------------------------------------------------------------------------\u001b[0m",
      "\u001b[1;31mAttributeError\u001b[0m                            Traceback (most recent call last)",
      "Input \u001b[1;32mIn [6]\u001b[0m, in \u001b[0;36m<cell line: 7>\u001b[1;34m()\u001b[0m\n\u001b[0;32m      5\u001b[0m     b\u001b[38;5;241m=\u001b[39m\u001b[38;5;241m1\u001b[39m\n\u001b[0;32m      6\u001b[0m z\u001b[38;5;241m=\u001b[39mx()\n\u001b[1;32m----> 7\u001b[0m \u001b[43mz\u001b[49m\u001b[38;5;241;43m.\u001b[39;49m\u001b[43ma\u001b[49m\n\u001b[0;32m      8\u001b[0m z\u001b[38;5;241m.\u001b[39mb\n",
      "\u001b[1;31mAttributeError\u001b[0m: 'x' object has no attribute 'a'"
     ]
    }
   ],
   "source": [
    "#wap to make a particular data is private mode using encapsulation\n",
    "\n",
    "class x:\n",
    "    __a=10\n",
    "    b=1\n",
    "z=x()\n",
    "z.a\n",
    "z.b"
   ]
  },
  {
   "cell_type": "code",
   "execution_count": 8,
   "id": "6f6d6a75",
   "metadata": {},
   "outputs": [
    {
     "data": {
      "text/plain": [
       "10"
      ]
     },
     "execution_count": 8,
     "metadata": {},
     "output_type": "execute_result"
    }
   ],
   "source": [
    "# protected mode\n",
    "\n",
    "class fun:\n",
    "    _a=10\n",
    "z=fun()\n",
    "z._a"
   ]
  },
  {
   "cell_type": "code",
   "execution_count": null,
   "id": "e70ff8aa",
   "metadata": {},
   "outputs": [],
   "source": []
  }
 ],
 "metadata": {
  "kernelspec": {
   "display_name": "Python 3 (ipykernel)",
   "language": "python",
   "name": "python3"
  },
  "language_info": {
   "codemirror_mode": {
    "name": "ipython",
    "version": 3
   },
   "file_extension": ".py",
   "mimetype": "text/x-python",
   "name": "python",
   "nbconvert_exporter": "python",
   "pygments_lexer": "ipython3",
   "version": "3.9.12"
  }
 },
 "nbformat": 4,
 "nbformat_minor": 5
}
