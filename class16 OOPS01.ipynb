{
 "cells": [
  {
   "cell_type": "code",
   "execution_count": 1,
   "id": "490defd9",
   "metadata": {},
   "outputs": [
    {
     "name": "stdout",
     "output_type": "stream",
     "text": [
      "hello\n"
     ]
    },
    {
     "data": {
      "text/plain": [
       "<__main__.add at 0x249b4935a00>"
      ]
     },
     "execution_count": 1,
     "metadata": {},
     "output_type": "execute_result"
    }
   ],
   "source": [
    "# OOPS----object oriented programing structure\n",
    "\n",
    "\n",
    "class add():\n",
    "    print(\"hello\")\n",
    "add()"
   ]
  },
  {
   "cell_type": "code",
   "execution_count": 2,
   "id": "10ec98c9",
   "metadata": {},
   "outputs": [
    {
     "name": "stdout",
     "output_type": "stream",
     "text": [
      "abc 20\n"
     ]
    },
    {
     "data": {
      "text/plain": [
       "<__main__.student at 0x249b4935ee0>"
      ]
     },
     "execution_count": 2,
     "metadata": {},
     "output_type": "execute_result"
    }
   ],
   "source": [
    "class student:\n",
    "    name='abc'\n",
    "    age=20\n",
    "    print(name,age)\n",
    "student()\n"
   ]
  },
  {
   "cell_type": "code",
   "execution_count": 3,
   "id": "25a0f423",
   "metadata": {},
   "outputs": [
    {
     "name": "stdout",
     "output_type": "stream",
     "text": [
      "20\n"
     ]
    }
   ],
   "source": [
    "class student:\n",
    "    def add(self,a,b):\n",
    "        c=a*b\n",
    "        print(c)\n",
    "x=student()\n",
    "x.add(4,5)"
   ]
  },
  {
   "cell_type": "code",
   "execution_count": 4,
   "id": "06d18c81",
   "metadata": {},
   "outputs": [
    {
     "name": "stdout",
     "output_type": "stream",
     "text": [
      "16\n"
     ]
    }
   ],
   "source": [
    "# wap to add to number with the hepl of oops\n",
    "\n",
    "class student:\n",
    "    def add(self,a,b):\n",
    "        c=a+b\n",
    "        print(c)\n",
    "        \n",
    "x=student()\n",
    "x.add(10,6)"
   ]
  },
  {
   "cell_type": "code",
   "execution_count": 5,
   "id": "c6371bea",
   "metadata": {},
   "outputs": [
    {
     "name": "stdout",
     "output_type": "stream",
     "text": [
      "saurabh 24\n"
     ]
    }
   ],
   "source": [
    "# wap to print name age of a person using class & object\n",
    "\n",
    "class emp:\n",
    "    def details(self,name,age):\n",
    "        print(name,age)\n",
    "x=emp()\n",
    "x.details(\"saurabh\",24)"
   ]
  },
  {
   "cell_type": "code",
   "execution_count": 6,
   "id": "eb837216",
   "metadata": {},
   "outputs": [
    {
     "name": "stdout",
     "output_type": "stream",
     "text": [
      "\n"
     ]
    },
    {
     "data": {
      "text/plain": [
       "<__main__.fun at 0x249b49a1dc0>"
      ]
     },
     "execution_count": 6,
     "metadata": {},
     "output_type": "execute_result"
    }
   ],
   "source": [
    "#make a empty class and make it object to get the op\n",
    "\n",
    "class fun:\n",
    "    print()\n",
    "fun()"
   ]
  },
  {
   "cell_type": "code",
   "execution_count": 7,
   "id": "b0680329",
   "metadata": {},
   "outputs": [
    {
     "name": "stdout",
     "output_type": "stream",
     "text": [
      "saurabh 20 40k\n"
     ]
    }
   ],
   "source": [
    "# make a class of emp to try to fetch out the data\n",
    "\n",
    "class emp:\n",
    "    def add(self,name,age,salary):\n",
    "        print(name,age,salary)\n",
    "        \n",
    "x=emp()\n",
    "x.add('saurabh',20,'40k')"
   ]
  },
  {
   "cell_type": "code",
   "execution_count": 8,
   "id": "77d8d7fc",
   "metadata": {},
   "outputs": [
    {
     "name": "stdout",
     "output_type": "stream",
     "text": [
      "68.66666666666667\n"
     ]
    }
   ],
   "source": [
    "# make a class of student and try to calculate his percentage\n",
    "\n",
    "class student:\n",
    "    def marks(self,a,b,c):\n",
    "        y=(a+b+c)\n",
    "        total_marks=300\n",
    "        per=y/total_marks*100\n",
    "        print(per)\n",
    "        \n",
    "x=student()\n",
    "x.marks(67,89,50)"
   ]
  },
  {
   "cell_type": "code",
   "execution_count": 9,
   "id": "6cc8b92e",
   "metadata": {},
   "outputs": [
    {
     "name": "stdout",
     "output_type": "stream",
     "text": [
      "14400000\n"
     ]
    }
   ],
   "source": [
    "# make a class of furniture and try to find out the data total cost of bed bed bought=12 besd cost\n",
    "#each 12k\n",
    "\n",
    "\n",
    "class furniture:\n",
    "    def bed(self,no_of_bed,each_cost):\n",
    "        total_amt=(no_of_bed*each_cost)*100\n",
    "        print(total_amt)\n",
    "        \n",
    "x=furniture()\n",
    "x.bed(12,12000)"
   ]
  },
  {
   "cell_type": "code",
   "execution_count": 10,
   "id": "239fe174",
   "metadata": {},
   "outputs": [
    {
     "name": "stdout",
     "output_type": "stream",
     "text": [
      "15.25\n"
     ]
    }
   ],
   "source": [
    "# make  a class of car  and try to calculate the average speed.\n",
    "\n",
    "class car:\n",
    "    def info(self,t1,t2,t3,d1,d2,d3):\n",
    "        t=(t1+t2+t3)/3\n",
    "        d=(d1+d2+d3)/3\n",
    "        avg_spd=d/t\n",
    "        print(avg_spd)\n",
    "        \n",
    "x=car()\n",
    "x.info(4,5,7,68,90,86)"
   ]
  },
  {
   "cell_type": "code",
   "execution_count": 11,
   "id": "dc3591bd",
   "metadata": {},
   "outputs": [
    {
     "name": "stdout",
     "output_type": "stream",
     "text": [
      "3476\n"
     ]
    }
   ],
   "source": [
    "# reverse the integer using oops\n",
    "\n",
    "class fun:\n",
    "    def info(self,number,reverse=0):\n",
    "        while number>0:\n",
    "            remainder =number%10\n",
    "            reverse=(reverse*10)+remainder\n",
    "            number=number//10\n",
    "        print(reverse)\n",
    "x=fun()\n",
    "x.info(6743)"
   ]
  },
  {
   "cell_type": "code",
   "execution_count": null,
   "id": "0bc9562a",
   "metadata": {},
   "outputs": [],
   "source": []
  }
 ],
 "metadata": {
  "kernelspec": {
   "display_name": "Python 3 (ipykernel)",
   "language": "python",
   "name": "python3"
  },
  "language_info": {
   "codemirror_mode": {
    "name": "ipython",
    "version": 3
   },
   "file_extension": ".py",
   "mimetype": "text/x-python",
   "name": "python",
   "nbconvert_exporter": "python",
   "pygments_lexer": "ipython3",
   "version": "3.9.12"
  }
 },
 "nbformat": 4,
 "nbformat_minor": 5
}
