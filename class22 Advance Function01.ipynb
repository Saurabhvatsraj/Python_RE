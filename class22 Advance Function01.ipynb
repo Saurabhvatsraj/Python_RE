{
 "cells": [
  {
   "cell_type": "code",
   "execution_count": 1,
   "id": "831102c0",
   "metadata": {},
   "outputs": [],
   "source": [
    "#1.lambda 2. filter 3.map 4. reduce\n",
    "\n",
    "#lambda ----one liner function/anonymous fucntion\n",
    "# n no of argumentd \n",
    "#number of operation only one\n",
    "\n",
    "# syntex--\n",
    "# lambda variable :operation\n",
    "# call the lambda function\n",
    "\n"
   ]
  },
  {
   "cell_type": "code",
   "execution_count": 5,
   "id": "88b3405f",
   "metadata": {},
   "outputs": [
    {
     "data": {
      "text/plain": [
       "10"
      ]
     },
     "execution_count": 5,
     "metadata": {},
     "output_type": "execute_result"
    }
   ],
   "source": [
    "# wap to add two number with lambda function\n",
    "\n",
    "z=lambda x,y:x+y\n",
    "z(4,6)"
   ]
  },
  {
   "cell_type": "code",
   "execution_count": 9,
   "id": "9d771767",
   "metadata": {},
   "outputs": [
    {
     "data": {
      "text/plain": [
       "10"
      ]
     },
     "execution_count": 9,
     "metadata": {},
     "output_type": "execute_result"
    }
   ],
   "source": [
    "# wap to add a number into x with the help of lambda function\n",
    "\n",
    "z=lambda x:x+5\n",
    "z(5)"
   ]
  },
  {
   "cell_type": "code",
   "execution_count": 10,
   "id": "630f1658",
   "metadata": {},
   "outputs": [
    {
     "data": {
      "text/plain": [
       "15"
      ]
     },
     "execution_count": 10,
     "metadata": {},
     "output_type": "execute_result"
    }
   ],
   "source": [
    "z= lambda x,y=8:x+y\n",
    "z(7)"
   ]
  },
  {
   "cell_type": "markdown",
   "id": "1a3bbd18",
   "metadata": {},
   "source": [
    "# Filter"
   ]
  },
  {
   "cell_type": "code",
   "execution_count": 2,
   "id": "1613ad33",
   "metadata": {},
   "outputs": [
    {
     "data": {
      "text/plain": [
       "[68, 72, 85]"
      ]
     },
     "execution_count": 2,
     "metadata": {},
     "output_type": "execute_result"
    }
   ],
   "source": [
    "# filter function\n",
    "\n",
    "# wap to filter  out the age of sinior citizon  from a given a data\n",
    "\n",
    "age=[30,68,72,85,40,58]\n",
    "\n",
    "z=list(filter(lambda x:x>=60,age))\n",
    "z"
   ]
  },
  {
   "cell_type": "code",
   "execution_count": 3,
   "id": "e94e4705",
   "metadata": {},
   "outputs": [
    {
     "data": {
      "text/plain": [
       "(68, 72, 85)"
      ]
     },
     "execution_count": 3,
     "metadata": {},
     "output_type": "execute_result"
    }
   ],
   "source": [
    "z=tuple(filter(lambda x : x>=60,age))\n",
    "z"
   ]
  },
  {
   "cell_type": "code",
   "execution_count": 8,
   "id": "f158d237",
   "metadata": {},
   "outputs": [
    {
     "data": {
      "text/plain": [
       "[68, 72, 85]"
      ]
     },
     "execution_count": 8,
     "metadata": {},
     "output_type": "execute_result"
    }
   ],
   "source": [
    "# wap to filter out the age of senior citizen from a given data without lambda function\n",
    "\n",
    "age=[30,68,72,85,40,58]\n",
    "def info(age):\n",
    "    if age >=60:\n",
    "        return True\n",
    "    else:\n",
    "        return False\n",
    "z=list(filter(info,age))\n",
    "z"
   ]
  },
  {
   "cell_type": "markdown",
   "id": "c972b727",
   "metadata": {},
   "source": [
    "# Map"
   ]
  },
  {
   "cell_type": "code",
   "execution_count": 12,
   "id": "08e47449",
   "metadata": {},
   "outputs": [
    {
     "data": {
      "text/plain": [
       "[1, 4, 9]"
      ]
     },
     "execution_count": 12,
     "metadata": {},
     "output_type": "execute_result"
    }
   ],
   "source": [
    "# map--- used to performe operation\n",
    "\n",
    "a=[1,2,3]\n",
    "z=list(map(lambda x:x*x,a))\n",
    "z"
   ]
  },
  {
   "cell_type": "code",
   "execution_count": 13,
   "id": "33c0420e",
   "metadata": {},
   "outputs": [
    {
     "data": {
      "text/plain": [
       "49"
      ]
     },
     "execution_count": 13,
     "metadata": {},
     "output_type": "execute_result"
    }
   ],
   "source": [
    "# wap to find square of a number using lambda function\n",
    "z=lambda x:x**2\n",
    "z(7)"
   ]
  },
  {
   "cell_type": "code",
   "execution_count": 15,
   "id": "a7da9c9d",
   "metadata": {},
   "outputs": [
    {
     "data": {
      "text/plain": [
       "1000"
      ]
     },
     "execution_count": 15,
     "metadata": {},
     "output_type": "execute_result"
    }
   ],
   "source": [
    "# wap to find cube of a number using lambda function\n",
    "z=lambda x:x**3\n",
    "z(10)"
   ]
  },
  {
   "cell_type": "code",
   "execution_count": 16,
   "id": "acc808f8",
   "metadata": {},
   "outputs": [
    {
     "data": {
      "text/plain": [
       "18.0"
      ]
     },
     "execution_count": 16,
     "metadata": {},
     "output_type": "execute_result"
    }
   ],
   "source": [
    "# wap to progran to find the average of 5 number using lambda function\n",
    "\n",
    "z=lambda a,b,c,d,e:(a+b+c+d+e)/5\n",
    "z(10,15,20,25,20)"
   ]
  },
  {
   "cell_type": "code",
   "execution_count": 19,
   "id": "c741ed2b",
   "metadata": {},
   "outputs": [
    {
     "name": "stdout",
     "output_type": "stream",
     "text": [
      "even number [4, 2, 6, 10]\n",
      "odd number [3, 5, 7, 9, 1]\n"
     ]
    }
   ],
   "source": [
    "# wap to find odd and even number using lambda function,\n",
    "a=[3,5,4,2,7,9,6,1,10]\n",
    "z=list(filter(lambda x:x%2==0,a))\n",
    "print(\"even number\",z)\n",
    "y=list(filter(lambda x:x%2!=0,a))\n",
    "print(\"odd number\",y)"
   ]
  },
  {
   "cell_type": "markdown",
   "id": "08aaeb0b",
   "metadata": {},
   "source": [
    "# Reduce"
   ]
  },
  {
   "cell_type": "code",
   "execution_count": 20,
   "id": "531fbdaf",
   "metadata": {},
   "outputs": [],
   "source": [
    "from functools import reduce"
   ]
  },
  {
   "cell_type": "code",
   "execution_count": 21,
   "id": "0efe2999",
   "metadata": {},
   "outputs": [
    {
     "data": {
      "text/plain": [
       "47"
      ]
     },
     "execution_count": 21,
     "metadata": {},
     "output_type": "execute_result"
    }
   ],
   "source": [
    "a=[3,5,4,2,7,9,6,1,10]\n",
    "z=reduce(lambda x,y: x+y,a)\n",
    "z"
   ]
  },
  {
   "cell_type": "code",
   "execution_count": 22,
   "id": "298dc720",
   "metadata": {},
   "outputs": [
    {
     "data": {
      "text/plain": [
       "453600"
      ]
     },
     "execution_count": 22,
     "metadata": {},
     "output_type": "execute_result"
    }
   ],
   "source": [
    "# wap to multiply a list of number using lambda reduce\n",
    "\n",
    "a=[3,5,4,2,7,9,6,1,10]\n",
    "z=reduce(lambda x,y:x*y,a)\n",
    "z"
   ]
  },
  {
   "cell_type": "code",
   "execution_count": 27,
   "id": "259dd2e0",
   "metadata": {},
   "outputs": [
    {
     "data": {
      "text/plain": [
       "453600"
      ]
     },
     "execution_count": 27,
     "metadata": {},
     "output_type": "execute_result"
    }
   ],
   "source": [
    "# solve the question normal question\n",
    "\n",
    "a=[3,5,4,2,7,9,6,1,10]\n",
    "def info(x,y):\n",
    "    z=x*y\n",
    "    return z\n",
    "z=reduce(info,a)\n",
    "z"
   ]
  },
  {
   "cell_type": "code",
   "execution_count": null,
   "id": "ab380b22",
   "metadata": {},
   "outputs": [],
   "source": []
  }
 ],
 "metadata": {
  "kernelspec": {
   "display_name": "Python 3 (ipykernel)",
   "language": "python",
   "name": "python3"
  },
  "language_info": {
   "codemirror_mode": {
    "name": "ipython",
    "version": 3
   },
   "file_extension": ".py",
   "mimetype": "text/x-python",
   "name": "python",
   "nbconvert_exporter": "python",
   "pygments_lexer": "ipython3",
   "version": "3.9.12"
  }
 },
 "nbformat": 4,
 "nbformat_minor": 5
}
