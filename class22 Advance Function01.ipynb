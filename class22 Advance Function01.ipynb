{
 "cells": [
  {
   "cell_type": "code",
   "execution_count": 1,
   "id": "831102c0",
   "metadata": {},
   "outputs": [],
   "source": [
    "#1.lambda 2. filter 3.map 4. reduce\n",
    "\n",
    "#lambda ----one liner function/anonymous fucntion\n",
    "# n no of argumentd \n",
    "#number of operation only one\n",
    "\n",
    "# syntex--\n",
    "# lambda variable :operation\n",
    "# call the lambda function\n",
    "\n"
   ]
  },
  {
   "cell_type": "code",
   "execution_count": 5,
   "id": "88b3405f",
   "metadata": {},
   "outputs": [
    {
     "data": {
      "text/plain": [
       "10"
      ]
     },
     "execution_count": 5,
     "metadata": {},
     "output_type": "execute_result"
    }
   ],
   "source": [
    "# wap to add two number with lambda function\n",
    "\n",
    "z=lambda x,y:x+y\n",
    "z(4,6)"
   ]
  },
  {
   "cell_type": "code",
   "execution_count": 6,
   "id": "9d771767",
   "metadata": {},
   "outputs": [
    {
     "data": {
      "text/plain": [
       "10"
      ]
     },
     "execution_count": 6,
     "metadata": {},
     "output_type": "execute_result"
    }
   ],
   "source": [
    "# wap to add a number into x with the help of lambda function\n",
    "\n",
    "z=lambda x:x+5\n",
    "z(5)"
   ]
  },
  {
   "cell_type": "code",
   "execution_count": 8,
   "id": "6e47adb7",
   "metadata": {},
   "outputs": [
    {
     "data": {
      "text/plain": [
       "15"
      ]
     },
     "execution_count": 8,
     "metadata": {},
     "output_type": "execute_result"
    }
   ],
   "source": [
    "z= lambda x,y=8:x+y\n",
    "z(7)"
   ]
  },
  {
   "cell_type": "code",
   "execution_count": null,
   "id": "1613ad33",
   "metadata": {},
   "outputs": [],
   "source": [
    "# filter function\n",
    "\n",
    "# wap to filter  out the age of sinior citizon  from a given a data\n",
    "\n",
    "age=[30,68,72,85,40,58]"
   ]
  }
 ],
 "metadata": {
  "kernelspec": {
   "display_name": "Python 3 (ipykernel)",
   "language": "python",
   "name": "python3"
  },
  "language_info": {
   "codemirror_mode": {
    "name": "ipython",
    "version": 3
   },
   "file_extension": ".py",
   "mimetype": "text/x-python",
   "name": "python",
   "nbconvert_exporter": "python",
   "pygments_lexer": "ipython3",
   "version": "3.9.12"
  }
 },
 "nbformat": 4,
 "nbformat_minor": 5
}
