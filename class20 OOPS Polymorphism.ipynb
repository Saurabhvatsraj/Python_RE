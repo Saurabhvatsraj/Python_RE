{
 "cells": [
  {
   "cell_type": "code",
   "execution_count": 1,
   "id": "61698d56",
   "metadata": {},
   "outputs": [
    {
     "name": "stdout",
     "output_type": "stream",
     "text": [
      "16\n"
     ]
    }
   ],
   "source": [
    "#ploymorphism----ploy(mini)+morphsim(forms)\n",
    "#overloding---.1.operator overloding  2.method overloding\n",
    "#overriding---does not support in python\n",
    "\n",
    "\n",
    "# operator overloding--\n",
    "\n",
    "class fun:\n",
    "    a=8\n",
    "    b=8\n",
    "    c=a+b\n",
    "    print(c)\n",
    "x=fun()"
   ]
  },
  {
   "cell_type": "code",
   "execution_count": 2,
   "id": "52bf37b6",
   "metadata": {},
   "outputs": [
    {
     "name": "stdout",
     "output_type": "stream",
     "text": [
      "27\n"
     ]
    }
   ],
   "source": [
    "class fun:\n",
    "    x='2'\n",
    "    y='7'\n",
    "    z=x+y\n",
    "    print(z)\n",
    "a=fun()"
   ]
  },
  {
   "cell_type": "code",
   "execution_count": 9,
   "id": "36f468ba",
   "metadata": {},
   "outputs": [
    {
     "name": "stdout",
     "output_type": "stream",
     "text": [
      "40\n",
      "24\n",
      "8\n"
     ]
    }
   ],
   "source": [
    "# method overloding\n",
    "\n",
    "class info:\n",
    "    def add(self,a=5,b=8):\n",
    "        c=a*b\n",
    "        print(c)\n",
    "x=info()\n",
    "x.add()\n",
    "x.add(3)\n",
    "x.add(2,4)"
   ]
  },
  {
   "cell_type": "code",
   "execution_count": null,
   "id": "d6bd21c3",
   "metadata": {},
   "outputs": [],
   "source": []
  }
 ],
 "metadata": {
  "kernelspec": {
   "display_name": "Python 3 (ipykernel)",
   "language": "python",
   "name": "python3"
  },
  "language_info": {
   "codemirror_mode": {
    "name": "ipython",
    "version": 3
   },
   "file_extension": ".py",
   "mimetype": "text/x-python",
   "name": "python",
   "nbconvert_exporter": "python",
   "pygments_lexer": "ipython3",
   "version": "3.9.12"
  }
 },
 "nbformat": 4,
 "nbformat_minor": 5
}
