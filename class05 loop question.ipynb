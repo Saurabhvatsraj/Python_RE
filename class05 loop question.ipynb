{
 "cells": [
  {
   "cell_type": "code",
   "execution_count": null,
   "id": "0bee3014",
   "metadata": {},
   "outputs": [],
   "source": [
    "# find odd & even number from 1-10 using for loop\n",
    "\n",
    "for i in range(1,11):\n",
    "    if i%2==0:\n",
    "        print(\"even\",i)\n",
    "    else:\n",
    "        print(\"odd\",i)"
   ]
  },
  {
   "cell_type": "code",
   "execution_count": null,
   "id": "8cf802b2",
   "metadata": {},
   "outputs": [],
   "source": [
    "# find odd and even number using user input for loop.\n",
    "\n",
    "x=int(input(\"enter the number\"))\n",
    "if x%2==0:\n",
    "    print(\"even\",x)\n",
    "else:\n",
    "    print(\"odd\",x)"
   ]
  },
  {
   "cell_type": "code",
   "execution_count": null,
   "id": "388c6a8e",
   "metadata": {},
   "outputs": [],
   "source": [
    "# find odd and even number from 1-10 using while loop\n",
    "\n",
    "x=1\n",
    "while x<11:\n",
    "    print(x)\n",
    "    if x%2==0:\n",
    "        \n",
    "        print(\"even\",x)\n",
    "        x=x+1\n",
    "        \n",
    "    else:\n",
    "        print(\"odd\",x)\n",
    "        x=x+1\n",
    "        "
   ]
  },
  {
   "cell_type": "code",
   "execution_count": null,
   "id": "8bf8bf85",
   "metadata": {},
   "outputs": [],
   "source": [
    "# find odd and even number using user input  while loop\n",
    "\n",
    "x=int(input(\"enter the number\"))\n",
    "while x<5:\n",
    "    print(x)\n",
    "    x=x+1\n",
    "    if x%2==0:\n",
    "        print(\"even\",x)\n",
    "    else:\n",
    "        print(\"odd\",x)    "
   ]
  },
  {
   "cell_type": "code",
   "execution_count": null,
   "id": "34138746",
   "metadata": {},
   "outputs": [],
   "source": [
    "#wap to print first 10 natural number\n",
    "\n",
    "for i in range(1,11):\n",
    "    print(i)"
   ]
  },
  {
   "cell_type": "code",
   "execution_count": null,
   "id": "c2115943",
   "metadata": {},
   "outputs": [],
   "source": [
    "# wap to print -20 to 20\n",
    "\n",
    "x=-20\n",
    "while x<21:\n",
    "    print(x)\n",
    "    x=x+1\n",
    "    "
   ]
  },
  {
   "cell_type": "code",
   "execution_count": null,
   "id": "14f182ee",
   "metadata": {},
   "outputs": [],
   "source": [
    "# calculate the sum of 1-10\n",
    "\n",
    "b=0\n",
    "for i in range(1,11):\n",
    "    b=b+i\n",
    "print(b)"
   ]
  },
  {
   "cell_type": "code",
   "execution_count": 1,
   "id": "ad7ff16f",
   "metadata": {},
   "outputs": [
    {
     "name": "stdout",
     "output_type": "stream",
     "text": [
      "no od digit 7\n"
     ]
    }
   ],
   "source": [
    "# wap to count total nuber in a digit?\n",
    "\n",
    "x=6789034\n",
    "count=0\n",
    "while x>0:\n",
    "    count=count+1\n",
    "    x=x//10\n",
    "print(\"no od digit\",count)"
   ]
  },
  {
   "cell_type": "code",
   "execution_count": 2,
   "id": "fba00875",
   "metadata": {},
   "outputs": [
    {
     "name": "stdout",
     "output_type": "stream",
     "text": [
      "-10\n",
      "-9\n",
      "-8\n",
      "-7\n",
      "-6\n",
      "-5\n",
      "-4\n",
      "-3\n",
      "-2\n",
      "-1\n"
     ]
    }
   ],
   "source": [
    "# wap to print number -10 to -1\n",
    "\n",
    "x=-10\n",
    "while x<0:\n",
    "    print(x)\n",
    "    x=x+1"
   ]
  },
  {
   "cell_type": "code",
   "execution_count": 10,
   "id": "c947d3f7",
   "metadata": {},
   "outputs": [
    {
     "name": "stdout",
     "output_type": "stream",
     "text": [
      "enter the number78\n",
      "not number\n"
     ]
    }
   ],
   "source": [
    "# wap to find the nunber is  prime or not>\n",
    "\n",
    "a=int(input(\"enter the number\"))\n",
    "k=0\n",
    "for i in range(1,a+1):\n",
    "    if a%i==0:\n",
    "        k=k+1\n",
    "if k==2:\n",
    "        print(\"prime number\")\n",
    "else:\n",
    "        print(\"not number\")"
   ]
  },
  {
   "cell_type": "code",
   "execution_count": 12,
   "id": "8ae3f8ac",
   "metadata": {},
   "outputs": [
    {
     "name": "stdout",
     "output_type": "stream",
     "text": [
      "35467\n"
     ]
    }
   ],
   "source": [
    "# reverse the given integer 76453>\n",
    "\n",
    "number=76453\n",
    "reverse=0\n",
    "while number>0:\n",
    "    remainder=number%10\n",
    "    reverse=(reverse*10)+remainder\n",
    "    number=number//10\n",
    "print(reverse)"
   ]
  },
  {
   "cell_type": "code",
   "execution_count": null,
   "id": "fdbea816",
   "metadata": {},
   "outputs": [],
   "source": []
  }
 ],
 "metadata": {
  "kernelspec": {
   "display_name": "Python 3 (ipykernel)",
   "language": "python",
   "name": "python3"
  },
  "language_info": {
   "codemirror_mode": {
    "name": "ipython",
    "version": 3
   },
   "file_extension": ".py",
   "mimetype": "text/x-python",
   "name": "python",
   "nbconvert_exporter": "python",
   "pygments_lexer": "ipython3",
   "version": "3.9.12"
  }
 },
 "nbformat": 4,
 "nbformat_minor": 5
}
